{
 "cells": [
  {
   "cell_type": "code",
   "execution_count": 1,
   "metadata": {},
   "outputs": [],
   "source": [
    "import torch\n",
    "import torch.nn as nn\n",
    "import torch.optim as optim\n",
    "from torch.utils.data import Dataset, DataLoader\n",
    "\n",
    "from sklearn.metrics import f1_score"
   ]
  },
  {
   "cell_type": "code",
   "execution_count": 2,
   "metadata": {},
   "outputs": [],
   "source": [
    "# get data\n",
    "import pandas as pd\n",
    "\n",
    "train = pd.read_csv('train.csv')\n",
    "valid = pd.read_csv('valid.csv')\n",
    "test = pd.read_csv('test.csv')"
   ]
  },
  {
   "cell_type": "code",
   "execution_count": 3,
   "metadata": {},
   "outputs": [],
   "source": [
    "# tokenizer\n",
    "from tokenizers import Tokenizer\n",
    "from tokenizers import ByteLevelBPETokenizer\n",
    "from tokenizers.pre_tokenizers import Whitespace\n",
    "\n",
    "tokenizer = ByteLevelBPETokenizer()\n",
    "tokenizer.pre_tokenizer = Whitespace()\n",
    "tokenizer.enable_padding(pad_id=0, pad_token='<pad>')"
   ]
  },
  {
   "cell_type": "code",
   "execution_count": 4,
   "metadata": {},
   "outputs": [],
   "source": [
    "texts_path = 'texts.txt'\n",
    "\n",
    "with open(texts_path, 'w') as f:\n",
    "    for text in list(train['text'].values):\n",
    "        f.write(\"%s\\n\" % text)"
   ]
  },
  {
   "cell_type": "code",
   "execution_count": 5,
   "metadata": {},
   "outputs": [],
   "source": [
    "tokenizer.train(\n",
    "    files=[texts_path],\n",
    "    vocab_size=5_000,\n",
    "    min_frequency=2,\n",
    "    special_tokens=['<pad>', '<unk>']\n",
    "    )"
   ]
  },
  {
   "cell_type": "code",
   "execution_count": 6,
   "metadata": {},
   "outputs": [],
   "source": [
    "class CustomDataset(Dataset):\n",
    "\n",
    "    def __init__(self, tokens, labels, max_len):\n",
    "        self.tokens = tokens\n",
    "        self.labels = labels\n",
    "        self.max_len = max_len\n",
    "\n",
    "\n",
    "    def __len__(self):\n",
    "        return len(self.tokens)\n",
    "\n",
    "\n",
    "    def __getitem__(self, idx):\n",
    "        label = self.labels[idx]\n",
    "        label = torch.tensor(label)\n",
    "        tokens = self.tokens[idx]\n",
    "        out = torch.zeros(self.max_len, dtype=torch.long)\n",
    "        out[:len(tokens)] = torch.tensor(tokens, dtype=torch.long)[:self.max_len]\n",
    "        return out, label"
   ]
  },
  {
   "cell_type": "code",
   "execution_count": 7,
   "metadata": {},
   "outputs": [],
   "source": [
    "max_len = 64\n",
    "BATCH_SIZE = 16"
   ]
  },
  {
   "cell_type": "code",
   "execution_count": 8,
   "metadata": {},
   "outputs": [],
   "source": [
    "train_labels = list(train['label'])\n",
    "train_tokens = [tokenizer.encode(str(text)).ids for text in list(train['text'])]\n",
    "train_dataset = CustomDataset(train_tokens, train_labels, max_len)\n",
    "train_loader = DataLoader(train_dataset, batch_size=BATCH_SIZE, shuffle=False)"
   ]
  },
  {
   "cell_type": "code",
   "execution_count": 9,
   "metadata": {},
   "outputs": [],
   "source": [
    "test_labels = list(test['label'])\n",
    "test_tokens = [tokenizer.encode(str(text)).ids for text in list(test['text'])]\n",
    "test_dataset = CustomDataset(test_tokens, test_labels, max_len)\n",
    "test_loader = DataLoader(test_dataset, batch_size=BATCH_SIZE, shuffle=False)"
   ]
  },
  {
   "cell_type": "code",
   "execution_count": 10,
   "metadata": {},
   "outputs": [],
   "source": [
    "class LSTM_classifier(nn.Module):\n",
    "\n",
    "\n",
    "    def __init__(self, hidden_dim=128, vocab_size=5000, embedding_dim=300, linear_dim=128, dropout=0.3, n_classes=2):\n",
    "        super().__init__()\n",
    "        self.embedding_layer = nn.Embedding(vocab_size, embedding_dim)\n",
    "        self.lstm_layer = nn.LSTM(embedding_dim, hidden_dim, batch_first=True, bidirectional=True)\n",
    "        self.dropout_layer = nn.Dropout(dropout)        \n",
    "        self.fc_layer = nn.Linear(hidden_dim * 2, linear_dim)\n",
    "        self.batchnorm = nn.BatchNorm1d(linear_dim)\n",
    "        self.relu = nn.ReLU()\n",
    "        self.out_layer = nn.Linear(linear_dim, n_classes)\n",
    "\n",
    "\n",
    "    def forward(self, inputs):\n",
    "        batch_size = inputs.size(0)\n",
    "        embeddings = self.embedding_layer(inputs)\n",
    "        lstm_out, (ht, ct) = self.lstm_layer(embeddings)\n",
    "        out = ht.transpose(0, 1)\n",
    "        out = out.reshape(batch_size, -1)\n",
    "        out = self.fc_layer(out)\n",
    "        out = self.batchnorm(out)\n",
    "        out = self.relu(out)\n",
    "        out = self.dropout_layer(out)\n",
    "        out = self.out_layer(out)\n",
    "        out = torch.squeeze(out, 1)\n",
    "        out = torch.sigmoid(out)\n",
    "        return out"
   ]
  },
  {
   "cell_type": "code",
   "execution_count": 11,
   "metadata": {},
   "outputs": [],
   "source": [
    "def init_weights(m):\n",
    "    if isinstance(m, nn.Linear):\n",
    "        torch.nn.init.xavier_uniform_(m.weight)\n",
    "        m.bias.data.fill_(0.01)"
   ]
  },
  {
   "cell_type": "code",
   "execution_count": 12,
   "metadata": {},
   "outputs": [],
   "source": [
    "def eval_nn(model, data_loader):\n",
    "    predicted = []\n",
    "    labels = []\n",
    "    model.eval()\n",
    "    with torch.no_grad():\n",
    "        for data in data_loader:\n",
    "            x, y = data\n",
    "            x = x.to(device)\n",
    "            outputs = model(x)\n",
    "            _, predict = torch.max(outputs.data, 1)\n",
    "            predict = predict.cpu().detach().numpy().tolist()\n",
    "            predicted += predict\n",
    "            labels += y\n",
    "        score = f1_score(labels, predicted, average='binary')\n",
    "    return score"
   ]
  },
  {
   "cell_type": "code",
   "execution_count": 13,
   "metadata": {},
   "outputs": [],
   "source": [
    "def train_nn(model, optimizer, loss_function, train_loader, test_loader, device, epochs=20):\n",
    "    best_score = 0\n",
    "    for epoch in range(epochs):\n",
    "        model.train()\n",
    "        for inputs, labels in train_loader:\n",
    "            inputs, labels = inputs.to(device), labels.to(device)\n",
    "            optimizer.zero_grad()\n",
    "            predict = model(inputs)\n",
    "            loss = loss_function(predict, labels)\n",
    "            loss.backward()\n",
    "            optimizer.step()\n",
    "        score = eval_nn(model, test_loader)\n",
    "        print(epoch, 'valid:', score)\n",
    "        if score > best_score:\n",
    "            torch.save(model.state_dict(), 'lstm.pt')\n",
    "            best_score = score\n",
    "    return best_score"
   ]
  },
  {
   "cell_type": "code",
   "execution_count": 14,
   "metadata": {},
   "outputs": [],
   "source": [
    "device = torch.device(\"cuda:0\" if torch.cuda.is_available() else \"cpu\")"
   ]
  },
  {
   "cell_type": "code",
   "execution_count": 15,
   "metadata": {},
   "outputs": [],
   "source": [
    "model = LSTM_classifier(hidden_dim=256, vocab_size=5000, embedding_dim=300, linear_dim=128, dropout=0.1)   "
   ]
  },
  {
   "cell_type": "code",
   "execution_count": 16,
   "metadata": {},
   "outputs": [],
   "source": [
    "model.apply(init_weights);"
   ]
  },
  {
   "cell_type": "code",
   "execution_count": 17,
   "metadata": {},
   "outputs": [],
   "source": [
    "model.to(device);"
   ]
  },
  {
   "cell_type": "code",
   "execution_count": 18,
   "metadata": {},
   "outputs": [],
   "source": [
    "optimizer = optim.AdamW(model.parameters())"
   ]
  },
  {
   "cell_type": "code",
   "execution_count": 19,
   "metadata": {},
   "outputs": [],
   "source": [
    "loss_function = nn.CrossEntropyLoss().to(device)"
   ]
  },
  {
   "cell_type": "code",
   "execution_count": 20,
   "metadata": {},
   "outputs": [
    {
     "name": "stdout",
     "output_type": "stream",
     "text": [
      "0 valid: 0.5928917609046851\n",
      "1 valid: 0.6776859504132231\n",
      "2 valid: 0.7710184552289816\n",
      "3 valid: 0.7767918088737201\n",
      "4 valid: 0.7840112201963534\n",
      "5 valid: 0.7737430167597765\n",
      "6 valid: 0.7612809315866085\n",
      "7 valid: 0.7653589933382681\n",
      "8 valid: 0.7385826771653544\n",
      "9 valid: 0.7675753228120515\n",
      "10 valid: 0.771631205673759\n",
      "11 valid: 0.7884872824631861\n",
      "12 valid: 0.7671840354767183\n",
      "13 valid: 0.7829131652661064\n",
      "14 valid: 0.7801516195727084\n",
      "15 valid: 0.7709978463747308\n",
      "16 valid: 0.7720861172976986\n",
      "17 valid: 0.7810218978102189\n",
      "18 valid: 0.7833219412166781\n",
      "19 valid: 0.7702127659574468\n"
     ]
    },
    {
     "data": {
      "text/plain": [
       "0.7884872824631861"
      ]
     },
     "execution_count": 20,
     "metadata": {},
     "output_type": "execute_result"
    }
   ],
   "source": [
    "train_nn(model, optimizer, loss_function, train_loader, test_loader, device, epochs=20)"
   ]
  },
  {
   "cell_type": "code",
   "execution_count": 21,
   "metadata": {},
   "outputs": [],
   "source": [
    "model = LSTM_classifier(hidden_dim=256, vocab_size=5000, embedding_dim=300, linear_dim=128, dropout=0.1)\n",
    "model.load_state_dict(torch.load('lstm.pt'));"
   ]
  },
  {
   "cell_type": "code",
   "execution_count": 22,
   "metadata": {},
   "outputs": [],
   "source": [
    "score = eval_nn(model, test_loader)"
   ]
  },
  {
   "cell_type": "code",
   "execution_count": 23,
   "metadata": {},
   "outputs": [
    {
     "data": {
      "text/plain": [
       "0.7884872824631861"
      ]
     },
     "execution_count": 23,
     "metadata": {},
     "output_type": "execute_result"
    }
   ],
   "source": [
    "score"
   ]
  }
 ],
 "metadata": {
  "kernelspec": {
   "display_name": "Python 3",
   "language": "python",
   "name": "python3"
  },
  "language_info": {
   "codemirror_mode": {
    "name": "ipython",
    "version": 3
   },
   "file_extension": ".py",
   "mimetype": "text/x-python",
   "name": "python",
   "nbconvert_exporter": "python",
   "pygments_lexer": "ipython3",
   "version": "3.8.5"
  }
 },
 "nbformat": 4,
 "nbformat_minor": 4
}
