{
 "cells": [
  {
   "cell_type": "code",
   "execution_count": 1,
   "metadata": {},
   "outputs": [],
   "source": [
    "import torch\n",
    "import torch.nn as nn\n",
    "import torch.optim as optim"
   ]
  },
  {
   "cell_type": "code",
   "execution_count": 2,
   "metadata": {},
   "outputs": [],
   "source": [
    "from torch.utils.data import Dataset, DataLoader"
   ]
  },
  {
   "cell_type": "code",
   "execution_count": 3,
   "metadata": {},
   "outputs": [],
   "source": [
    "from tokenizers import Tokenizer\n",
    "from tokenizers import ByteLevelBPETokenizer\n",
    "from tokenizers.pre_tokenizers import Whitespace\n",
    "\n",
    "from transformers import BertTokenizer, BertForSequenceClassification\n",
    "from transformers import AdamW, get_linear_schedule_with_warmup\n",
    "\n",
    "from sklearn.metrics import precision_recall_fscore_support\n",
    "from sklearn.metrics import f1_score"
   ]
  },
  {
   "cell_type": "code",
   "execution_count": 4,
   "metadata": {},
   "outputs": [],
   "source": [
    "import numpy as np\n",
    "import pandas as pd"
   ]
  },
  {
   "cell_type": "markdown",
   "metadata": {},
   "source": [
    "### data"
   ]
  },
  {
   "cell_type": "code",
   "execution_count": 5,
   "metadata": {},
   "outputs": [],
   "source": [
    "train = pd.read_csv('train.csv')\n",
    "test = pd.read_csv('test.csv')"
   ]
  },
  {
   "cell_type": "markdown",
   "metadata": {},
   "source": [
    "### tokenizer: train"
   ]
  },
  {
   "cell_type": "code",
   "execution_count": 6,
   "metadata": {},
   "outputs": [],
   "source": [
    "tokenizer = ByteLevelBPETokenizer()\n",
    "tokenizer.pre_tokenizer = Whitespace()\n",
    "tokenizer.enable_padding(pad_id=0, pad_token='<pad>')"
   ]
  },
  {
   "cell_type": "code",
   "execution_count": 7,
   "metadata": {},
   "outputs": [],
   "source": [
    "texts_path = 'texts.txt'\n",
    "\n",
    "with open(texts_path, 'w') as f:\n",
    "    for text in list(train['text'].values):\n",
    "        f.write(\"%s\\n\" % text)"
   ]
  },
  {
   "cell_type": "code",
   "execution_count": 8,
   "metadata": {},
   "outputs": [],
   "source": [
    "tokenizer.train(\n",
    "    files=[texts_path],\n",
    "    vocab_size=5_000,\n",
    "    min_frequency=2,\n",
    "    special_tokens=['<pad>', '<unk>']\n",
    "    )"
   ]
  },
  {
   "cell_type": "markdown",
   "metadata": {},
   "source": [
    "### load BERT tokenizer"
   ]
  },
  {
   "cell_type": "code",
   "execution_count": 9,
   "metadata": {},
   "outputs": [],
   "source": [
    "tokenizer_bert = BertTokenizer.from_pretrained('./rubert-tiny')"
   ]
  },
  {
   "cell_type": "markdown",
   "metadata": {},
   "source": [
    "### dataset"
   ]
  },
  {
   "cell_type": "code",
   "execution_count": 10,
   "metadata": {},
   "outputs": [],
   "source": [
    "class CustomDataset(Dataset):\n",
    "\n",
    "    def __init__(self, tokens, labels, max_len):\n",
    "        self.tokens = tokens\n",
    "        self.labels = labels\n",
    "        self.max_len = max_len\n",
    "\n",
    "\n",
    "    def __len__(self):\n",
    "        return len(self.tokens)\n",
    "\n",
    "\n",
    "    def __getitem__(self, idx):\n",
    "        label = self.labels[idx]\n",
    "        label = torch.tensor(label)\n",
    "        tokens = self.tokens[idx]\n",
    "        out = torch.zeros(self.max_len, dtype=torch.long)\n",
    "        out[:len(tokens)] = torch.tensor(tokens, dtype=torch.long)[:self.max_len]\n",
    "        return out, label"
   ]
  },
  {
   "cell_type": "code",
   "execution_count": 11,
   "metadata": {},
   "outputs": [],
   "source": [
    "max_len = 64\n",
    "BATCH_SIZE = 16"
   ]
  },
  {
   "cell_type": "code",
   "execution_count": 12,
   "metadata": {},
   "outputs": [],
   "source": [
    "train_labels = list(train['label'])\n",
    "train_tokens = [tokenizer.encode(str(text)).ids for text in list(train['text'])]\n",
    "train_dataset = CustomDataset(train_tokens, train_labels, max_len)\n",
    "train_loader = DataLoader(train_dataset, batch_size=BATCH_SIZE, shuffle=False)"
   ]
  },
  {
   "cell_type": "code",
   "execution_count": 13,
   "metadata": {},
   "outputs": [],
   "source": [
    "test_labels = list(test['label'])\n",
    "test_tokens = [tokenizer.encode(str(text)).ids for text in list(test['text'])]\n",
    "test_dataset = CustomDataset(test_tokens, test_labels, max_len)\n",
    "test_loader = DataLoader(test_dataset, batch_size=BATCH_SIZE, shuffle=False)"
   ]
  },
  {
   "cell_type": "code",
   "execution_count": 14,
   "metadata": {},
   "outputs": [],
   "source": [
    "class LSTM_classifier(nn.Module):\n",
    "\n",
    "\n",
    "    def __init__(self, hidden_dim=128, vocab_size=5000, embedding_dim=300, linear_dim=128, dropout=0.3, n_classes=2):\n",
    "        super().__init__()\n",
    "        self.embedding_layer = nn.Embedding(vocab_size, embedding_dim)\n",
    "        self.lstm_layer = nn.LSTM(embedding_dim, hidden_dim, batch_first=True, bidirectional=True)\n",
    "        self.dropout_layer = nn.Dropout(dropout)        \n",
    "        self.fc_layer = nn.Linear(hidden_dim * 2, linear_dim)\n",
    "        self.batchnorm = nn.BatchNorm1d(linear_dim)\n",
    "        self.relu = nn.ReLU()\n",
    "        self.out_layer = nn.Linear(linear_dim, n_classes)\n",
    "\n",
    "\n",
    "    def forward(self, inputs):\n",
    "        batch_size = inputs.size(0)\n",
    "        embeddings = self.embedding_layer(inputs)\n",
    "        lstm_out, (ht, ct) = self.lstm_layer(embeddings)\n",
    "        out = ht.transpose(0, 1)\n",
    "        out = out.reshape(batch_size, -1)\n",
    "        out = self.fc_layer(out)\n",
    "        out = self.batchnorm(out)\n",
    "        out = self.relu(out)\n",
    "        out = self.dropout_layer(out)\n",
    "        out = self.out_layer(out)\n",
    "        out = torch.squeeze(out, 1)\n",
    "        out = torch.sigmoid(out)\n",
    "        return out"
   ]
  },
  {
   "cell_type": "code",
   "execution_count": null,
   "metadata": {},
   "outputs": [],
   "source": [
    "########"
   ]
  },
  {
   "cell_type": "code",
   "execution_count": null,
   "metadata": {},
   "outputs": [],
   "source": [
    "def init_weights(m):\n",
    "    if isinstance(m, nn.Linear):\n",
    "        torch.nn.init.xavier_uniform_(m.weight)\n",
    "        m.bias.data.fill_(0.01)"
   ]
  },
  {
   "cell_type": "code",
   "execution_count": null,
   "metadata": {},
   "outputs": [],
   "source": [
    "def eval_nn(model, data_loader):\n",
    "    predicted = []\n",
    "    labels = []\n",
    "    model.eval()\n",
    "    with torch.no_grad():\n",
    "        for data in data_loader:\n",
    "            x, y = data\n",
    "            x = x.to(device)\n",
    "            outputs = model(x)\n",
    "            _, predict = torch.max(outputs.data, 1)\n",
    "            predict = predict.cpu().detach().numpy().tolist()\n",
    "            predicted += predict\n",
    "            labels += y\n",
    "        score = f1_score(labels, predicted, average='binary')\n",
    "    return score"
   ]
  },
  {
   "cell_type": "code",
   "execution_count": null,
   "metadata": {},
   "outputs": [],
   "source": [
    "def train_nn(model, optimizer, loss_function, train_loader, test_loader, device, epochs=20):\n",
    "    best_score = 0\n",
    "    for epoch in range(epochs):\n",
    "        model.train()\n",
    "        for inputs, labels in train_loader:\n",
    "            inputs, labels = inputs.to(device), labels.to(device)\n",
    "            optimizer.zero_grad()\n",
    "            predict = model(inputs)\n",
    "            loss = loss_function(predict, labels)\n",
    "            loss.backward()\n",
    "            optimizer.step()\n",
    "        score = eval_nn(model, test_loader)\n",
    "        print(epoch, 'valid:', score)\n",
    "        if score > best_score:\n",
    "            torch.save(model.state_dict(), 'lstm.pt')\n",
    "            best_score = score\n",
    "    return best_score"
   ]
  },
  {
   "cell_type": "code",
   "execution_count": null,
   "metadata": {},
   "outputs": [],
   "source": [
    "device = torch.device(\"cuda:0\" if torch.cuda.is_available() else \"cpu\")"
   ]
  },
  {
   "cell_type": "code",
   "execution_count": null,
   "metadata": {},
   "outputs": [],
   "source": [
    "model = LSTM_classifier(hidden_dim=256, vocab_size=5000, embedding_dim=300, linear_dim=128, dropout=0.1)   "
   ]
  },
  {
   "cell_type": "code",
   "execution_count": null,
   "metadata": {},
   "outputs": [],
   "source": [
    "model.apply(init_weights);"
   ]
  },
  {
   "cell_type": "code",
   "execution_count": null,
   "metadata": {},
   "outputs": [],
   "source": [
    "model.to(device);"
   ]
  },
  {
   "cell_type": "code",
   "execution_count": null,
   "metadata": {},
   "outputs": [],
   "source": [
    "optimizer = optim.AdamW(model.parameters())"
   ]
  },
  {
   "cell_type": "code",
   "execution_count": null,
   "metadata": {},
   "outputs": [],
   "source": [
    "loss_function = nn.CrossEntropyLoss().to(device)"
   ]
  },
  {
   "cell_type": "code",
   "execution_count": null,
   "metadata": {},
   "outputs": [],
   "source": [
    "train_nn(model, optimizer, loss_function, train_loader, test_loader, device, epochs=3)"
   ]
  },
  {
   "cell_type": "code",
   "execution_count": null,
   "metadata": {},
   "outputs": [],
   "source": [
    "#####"
   ]
  },
  {
   "cell_type": "code",
   "execution_count": 58,
   "metadata": {},
   "outputs": [],
   "source": [
    "class DistillDataset(Dataset):\n",
    "\n",
    "    def __init__(self, texts, labels, tokenizer_bert, tokenizer_lstm, max_len):\n",
    "        self.texts = texts\n",
    "        self.labels = labels\n",
    "        self.tokenizer_bert = tokenizer_bert\n",
    "        self.tokenizer_lstm = tokenizer_lstm\n",
    "        self.max_len = max_len\n",
    "\n",
    "\n",
    "    def __len__(self):\n",
    "        return len(self.texts)\n",
    "\n",
    "\n",
    "    def __getitem__(self, idx):\n",
    "        text = self.texts[idx]\n",
    "        label = self.labels[idx]\n",
    "        label = torch.tensor(label)\n",
    "        # lstm\n",
    "        tokens_lstm = self.tokenizer_lstm.encode(str(text)).ids\n",
    "        out_lstm = torch.zeros(self.max_len, dtype=torch.long)\n",
    "        out_lstm[:len(tokens_lstm)] = torch.tensor(tokens_lstm, dtype=torch.long)[:self.max_len]\n",
    "        # bert\n",
    "        encoding = self.tokenizer_bert.encode_plus(\n",
    "            str(text),\n",
    "            add_special_tokens=True,\n",
    "            max_length=self.max_len,\n",
    "            return_token_type_ids=False,\n",
    "            truncation=True,\n",
    "            padding='max_length',\n",
    "            return_attention_mask=True,\n",
    "            return_tensors='pt',\n",
    "        )\n",
    "        \n",
    "        out_bert = {\n",
    "              'input_ids': encoding['input_ids'].flatten(),\n",
    "              'attention_mask': encoding['attention_mask'].flatten()\n",
    "        }\n",
    "        return out_lstm, out_bert, label"
   ]
  },
  {
   "cell_type": "code",
   "execution_count": 59,
   "metadata": {},
   "outputs": [],
   "source": [
    "train_dataset_distill = DistillDataset(\n",
    "    list(train['text']),\n",
    "    list(train['label']),\n",
    "    tokenizer_bert,\n",
    "    tokenizer,\n",
    "    max_len\n",
    ")"
   ]
  },
  {
   "cell_type": "code",
   "execution_count": 60,
   "metadata": {},
   "outputs": [],
   "source": [
    "train_loader_distill = DataLoader(train_dataset_distill, batch_size=BATCH_SIZE, shuffle=True)"
   ]
  },
  {
   "cell_type": "markdown",
   "metadata": {},
   "source": [
    "### BERT-teacher model"
   ]
  },
  {
   "cell_type": "code",
   "execution_count": 61,
   "metadata": {},
   "outputs": [],
   "source": [
    "class BertTrainer:\n",
    "\n",
    "    def __init__(self, path_model, n_classes=2):\n",
    "        self.model = BertForSequenceClassification.from_pretrained(path_model, num_labels=n_classes)\n",
    "        self.device = torch.device(\"cuda:0\" if torch.cuda.is_available() else \"cpu\")\n",
    "        self.max_len = 512\n",
    "        self.model.to(self.device)\n",
    "        self.model = self.model.eval()\n",
    "    \n",
    "    def predict(self, inputs):     \n",
    "        input_ids = inputs[\"input_ids\"].to(self.device)\n",
    "        attention_mask = inputs[\"attention_mask\"].to(self.device)\n",
    "        with torch.no_grad():\n",
    "            outputs = self.model(\n",
    "                input_ids=input_ids,\n",
    "                attention_mask=attention_mask\n",
    "            )\n",
    "        return outputs.logits"
   ]
  },
  {
   "cell_type": "code",
   "execution_count": 62,
   "metadata": {},
   "outputs": [
    {
     "name": "stderr",
     "output_type": "stream",
     "text": [
      "Some weights of the model checkpoint at ./rubert-tiny were not used when initializing BertForSequenceClassification: ['cls.predictions.decoder.weight', 'cls.seq_relationship.weight', 'cls.predictions.transform.LayerNorm.weight', 'cls.predictions.transform.dense.weight', 'cls.seq_relationship.bias', 'cls.predictions.bias', 'cls.predictions.transform.LayerNorm.bias', 'cls.predictions.decoder.bias', 'cls.predictions.transform.dense.bias']\n",
      "- This IS expected if you are initializing BertForSequenceClassification from the checkpoint of a model trained on another task or with another architecture (e.g. initializing a BertForSequenceClassification model from a BertForPreTraining model).\n",
      "- This IS NOT expected if you are initializing BertForSequenceClassification from the checkpoint of a model that you expect to be exactly identical (initializing a BertForSequenceClassification model from a BertForSequenceClassification model).\n",
      "Some weights of BertForSequenceClassification were not initialized from the model checkpoint at ./rubert-tiny and are newly initialized: ['classifier.bias', 'classifier.weight']\n",
      "You should probably TRAIN this model on a down-stream task to be able to use it for predictions and inference.\n"
     ]
    }
   ],
   "source": [
    "teacher = BertTrainer('./rubert-tiny')"
   ]
  },
  {
   "cell_type": "markdown",
   "metadata": {},
   "source": [
    "### BiLSTM-student model"
   ]
  },
  {
   "cell_type": "code",
   "execution_count": 86,
   "metadata": {},
   "outputs": [],
   "source": [
    "class CustomLSTM(nn.Module):\n",
    "\n",
    "\n",
    "    def __init__(self, hidden_dim=128, vocab_size=5000, embedding_dim=300, linear_dim=128, dropout=0.3, n_classes=2):\n",
    "        super().__init__()\n",
    "        self.embedding_layer = nn.Embedding(vocab_size, embedding_dim)\n",
    "        self.lstm_layer = nn.LSTM(embedding_dim, hidden_dim, batch_first=True, bidirectional=True)\n",
    "        self.dropout_layer = nn.Dropout(dropout)        \n",
    "        self.fc_layer = nn.Linear(hidden_dim * 2, linear_dim)\n",
    "        self.batchnorm = nn.BatchNorm1d(linear_dim)\n",
    "        self.relu = nn.ReLU()\n",
    "        self.out_layer = nn.Linear(linear_dim, n_classes)\n",
    "\n",
    "\n",
    "    def forward(self, inputs):\n",
    "        batch_size = inputs.size(0)\n",
    "        embeddings = self.embedding_layer(inputs)\n",
    "        lstm_out, (ht, ct) = self.lstm_layer(embeddings)\n",
    "        out = ht.transpose(0, 1)\n",
    "        out = out.reshape(batch_size, -1)\n",
    "        out = self.fc_layer(out)\n",
    "        out = self.batchnorm(out)\n",
    "        out = self.relu(out)\n",
    "        out = self.dropout_layer(out)\n",
    "        out = self.out_layer(out)\n",
    "#         out = torch.squeeze(out, 1)\n",
    "#         out = torch.sigmoid(out)\n",
    "        return out"
   ]
  },
  {
   "cell_type": "code",
   "execution_count": 87,
   "metadata": {},
   "outputs": [],
   "source": [
    "def loss_function(output, teacher_prob, real_label, a=0.5):\n",
    "    criterion_mse = torch.nn.MSELoss()\n",
    "    criterion_ce = torch.nn.CrossEntropyLoss()\n",
    "    return a * criterion_ce(output, real_label) + (1 - a) * criterion_mse(output, teacher_prob)"
   ]
  },
  {
   "cell_type": "code",
   "execution_count": 88,
   "metadata": {},
   "outputs": [],
   "source": [
    "def init_weights(m):\n",
    "    if isinstance(m, nn.Linear):\n",
    "        torch.nn.init.xavier_uniform_(m.weight)\n",
    "        m.bias.data.fill_(0.01)"
   ]
  },
  {
   "cell_type": "code",
   "execution_count": 89,
   "metadata": {},
   "outputs": [],
   "source": [
    "def eval_nn(model, data_loader):\n",
    "    predicted = []\n",
    "    labels = []\n",
    "    model.eval()\n",
    "    with torch.no_grad():\n",
    "        for data in data_loader:\n",
    "            x, y = data\n",
    "            x = x.to(device)\n",
    "            outputs = model(x)\n",
    "            _, predict = torch.max(outputs.data, 1)\n",
    "            predict = predict.cpu().detach().numpy().tolist()\n",
    "            predicted += predict\n",
    "            labels += y\n",
    "        score = f1_score(labels, predicted, average='binary')\n",
    "    return labels, predicted, score"
   ]
  },
  {
   "cell_type": "code",
   "execution_count": 90,
   "metadata": {},
   "outputs": [],
   "source": [
    "def train_distill(model, teacher, optimizer, loss_function, distill_loader, train_loader, test_loader, device, epochs=30, alpha=0.5):\n",
    "    best_score = 0\n",
    "    score_list = []\n",
    "    for epoch in range(epochs):\n",
    "        model.train()\n",
    "        for inputs, inputs_teacher, labels in distill_loader:\n",
    "            inputs, labels = inputs.to(device), labels.to(device)\n",
    "            optimizer.zero_grad()\n",
    "            predict = model(inputs)\n",
    "            teacher_predict = teacher.predict(inputs_teacher)\n",
    "            loss = loss_function(predict, teacher_predict, labels, alpha)\n",
    "            loss.backward()\n",
    "            optimizer.step()\n",
    "        score_train = round(eval_nn(model, train_loader)[2], 3)\n",
    "        score_test = round(eval_nn(model, test_loader)[2], 3)\n",
    "        score_list.append((score_train, score_test))\n",
    "        print(epoch, score_train, score_test)\n",
    "        if score_test > best_score:     \n",
    "            best_score = score_test\n",
    "            best_model = model\n",
    "    torch.save(best_model.state_dict(), f'./results/lstm_{best_score}.pt')\n",
    "    return best_model, best_score, score_list"
   ]
  },
  {
   "cell_type": "code",
   "execution_count": 91,
   "metadata": {},
   "outputs": [],
   "source": [
    "device = torch.device(\"cuda:0\" if torch.cuda.is_available() else \"cpu\")"
   ]
  },
  {
   "cell_type": "code",
   "execution_count": 92,
   "metadata": {},
   "outputs": [],
   "source": [
    "vocab_size = tokenizer.get_vocab_size()"
   ]
  },
  {
   "cell_type": "code",
   "execution_count": 93,
   "metadata": {},
   "outputs": [
    {
     "data": {
      "text/plain": [
       "5000"
      ]
     },
     "execution_count": 93,
     "metadata": {},
     "output_type": "execute_result"
    }
   ],
   "source": [
    "vocab_size"
   ]
  },
  {
   "cell_type": "code",
   "execution_count": 94,
   "metadata": {},
   "outputs": [
    {
     "name": "stdout",
     "output_type": "stream",
     "text": [
      "0 0.318 0.324\n",
      "1 0.345 0.363\n",
      "2 0.359 0.367\n",
      "3 0.275 0.298\n",
      "4 0.235 0.232\n",
      "5 0.217 0.23\n",
      "6 0.244 0.24\n",
      "7 0.251 0.259\n",
      "8 0.23 0.206\n",
      "9 0.228 0.222\n",
      "10 0.2 0.18\n",
      "11 0.209 0.184\n",
      "12 0.235 0.214\n",
      "13 0.242 0.216\n",
      "14 0.233 0.207\n",
      "15 0.239 0.205\n",
      "16 0.242 0.201\n",
      "17 0.25 0.232\n",
      "18 0.25 0.22\n",
      "19 0.246 0.221\n",
      "20 0.241 0.222\n",
      "21 0.254 0.244\n",
      "22 0.235 0.219\n",
      "23 0.238 0.218\n",
      "24 0.237 0.208\n",
      "25 0.251 0.234\n",
      "26 0.253 0.244\n",
      "27 0.24 0.223\n",
      "28 0.243 0.226\n",
      "29 0.239 0.218\n",
      "0 0.615 0.553\n",
      "1 0.817 0.724\n",
      "2 0.829 0.713\n",
      "3 0.912 0.782\n",
      "4 0.948 0.816\n",
      "5 0.961 0.808\n",
      "6 0.961 0.807\n",
      "7 0.967 0.803\n",
      "8 0.972 0.789\n",
      "9 0.978 0.807\n",
      "10 0.984 0.809\n",
      "11 0.976 0.779\n",
      "12 0.987 0.803\n",
      "13 0.988 0.803\n",
      "14 0.99 0.811\n",
      "15 0.989 0.791\n",
      "16 0.986 0.787\n",
      "17 0.993 0.796\n",
      "18 0.994 0.797\n",
      "19 0.993 0.805\n",
      "20 0.993 0.81\n",
      "21 0.995 0.81\n",
      "22 0.993 0.797\n",
      "23 0.991 0.8\n",
      "24 0.994 0.795\n",
      "25 0.994 0.794\n",
      "26 0.994 0.803\n",
      "27 0.995 0.819\n",
      "28 0.995 0.811\n",
      "29 0.993 0.804\n",
      "0 0.769 0.715\n",
      "1 0.863 0.746\n",
      "2 0.904 0.755\n",
      "3 0.94 0.792\n",
      "4 0.973 0.798\n",
      "5 0.981 0.792\n",
      "6 0.983 0.79\n",
      "7 0.989 0.789\n",
      "8 0.989 0.796\n",
      "9 0.988 0.787\n",
      "10 0.992 0.803\n",
      "11 0.992 0.795\n",
      "12 0.993 0.81\n",
      "13 0.993 0.808\n",
      "14 0.992 0.795\n",
      "15 0.992 0.793\n",
      "16 0.993 0.806\n",
      "17 0.994 0.806\n",
      "18 0.995 0.8\n",
      "19 0.99 0.786\n",
      "20 0.992 0.798\n",
      "21 0.995 0.814\n",
      "22 0.995 0.811\n",
      "23 0.995 0.803\n",
      "24 0.995 0.794\n",
      "25 0.995 0.808\n",
      "26 0.996 0.799\n",
      "27 0.995 0.81\n",
      "28 0.996 0.795\n",
      "29 0.994 0.803\n",
      "0 0.814 0.738\n",
      "1 0.913 0.783\n",
      "2 0.95 0.797\n",
      "3 0.967 0.769\n",
      "4 0.981 0.788\n",
      "5 0.989 0.805\n",
      "6 0.99 0.787\n",
      "7 0.988 0.804\n",
      "8 0.992 0.794\n",
      "9 0.987 0.768\n",
      "10 0.994 0.801\n",
      "11 0.994 0.793\n",
      "12 0.994 0.811\n",
      "13 0.994 0.798\n",
      "14 0.993 0.786\n",
      "15 0.995 0.796\n",
      "16 0.994 0.797\n",
      "17 0.995 0.81\n",
      "18 0.995 0.786\n",
      "19 0.996 0.812\n",
      "20 0.996 0.801\n",
      "21 0.997 0.808\n",
      "22 0.996 0.813\n",
      "23 0.994 0.808\n",
      "24 0.996 0.818\n",
      "25 0.996 0.82\n",
      "26 0.996 0.824\n",
      "27 0.996 0.825\n",
      "28 0.997 0.82\n",
      "29 0.997 0.824\n",
      "0 0.751 0.699\n",
      "1 0.834 0.747\n",
      "2 0.885 0.765\n",
      "3 0.901 0.756\n",
      "4 0.928 0.79\n",
      "5 0.939 0.781\n",
      "6 0.94 0.783\n",
      "7 0.95 0.789\n",
      "8 0.951 0.789\n",
      "9 0.954 0.807\n",
      "10 0.952 0.812\n",
      "11 0.963 0.818\n",
      "12 0.964 0.797\n",
      "13 0.966 0.81\n",
      "14 0.966 0.808\n",
      "15 0.955 0.802\n",
      "16 0.971 0.792\n",
      "17 0.965 0.806\n",
      "18 0.97 0.799\n",
      "19 0.97 0.797\n",
      "20 0.971 0.803\n",
      "21 0.965 0.788\n",
      "22 0.973 0.804\n",
      "23 0.973 0.798\n",
      "24 0.975 0.805\n",
      "25 0.976 0.799\n",
      "26 0.971 0.803\n",
      "27 0.976 0.806\n",
      "28 0.977 0.814\n",
      "29 0.978 0.819\n"
     ]
    }
   ],
   "source": [
    "score_alpha = []\n",
    "for alpha in [0, 0.25, 0.5, 0.75, 1]:\n",
    "    model = LSTM_classifier(hidden_dim=256, vocab_size=5000, embedding_dim=300, linear_dim=128, dropout=0.1)   \n",
    "\n",
    "    model.apply(init_weights)\n",
    "    model.to(device)\n",
    "    optimizer = optim.AdamW(model.parameters())\n",
    "    _, _, score_list = train_distill(model, teacher, optimizer, loss_function, train_loader_distill, train_loader, test_loader, device, 30, alpha)\n",
    "    score_alpha.append(score_list)"
   ]
  },
  {
   "cell_type": "code",
   "execution_count": 95,
   "metadata": {},
   "outputs": [
    {
     "data": {
      "image/png": "[encoded data removed]",
      "text/plain": [
       "<Figure size 432x288 with 1 Axes>"
      ]
     },
     "metadata": {
      "needs_background": "light"
     },
     "output_type": "display_data"
    }
   ],
   "source": [
    "import matplotlib.pyplot as plt\n",
    "import numpy as np\n",
    "\n",
    "a_list = [1, 0.75, 0.5, 0.25, 0]\n",
    "\n",
    "for i, score in enumerate(score_alpha):\n",
    "    _, score_test = list(zip(*score))\n",
    "    plt.plot(score_test, label=f'{a_list[i]}')\n",
    "plt.grid(True)\n",
    "plt.legend()\n",
    "plt.show()"
   ]
  }
 ],
 "metadata": {
  "kernelspec": {
   "display_name": "Python 3",
   "language": "python",
   "name": "python3"
  },
  "language_info": {
   "codemirror_mode": {
    "name": "ipython",
    "version": 3
   },
   "file_extension": ".py",
   "mimetype": "text/x-python",
   "name": "python",
   "nbconvert_exporter": "python",
   "pygments_lexer": "ipython3",
   "version": "3.8.5"
  }
 },
 "nbformat": 4,
 "nbformat_minor": 4
}
